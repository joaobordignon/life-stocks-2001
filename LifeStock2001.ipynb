{
 "cells": [
  {
   "cell_type": "markdown",
   "id": "fc446a9b",
   "metadata": {},
   "source": [
    "# Test & playground for Life Stocks 2001"
   ]
  },
  {
   "cell_type": "markdown",
   "id": "9b0a0ac6",
   "metadata": {},
   "source": [
    "- [ ] Game Design Document (Learning & Planning)\n",
    "    - [x] Brainstorm mechanics in Jupyter notebook, break into small chunks\n",
    "    - [ ] Flesh out narrative, level progression, main features\n",
    "    - [ ] Write pseudocode and map game flow\n",
    "    - [ ] Iterate and update with new ideas"
   ]
  },
  {
   "cell_type": "code",
   "execution_count": 2,
   "id": "82c7b84e",
   "metadata": {},
   "outputs": [
    {
     "name": "stdout",
     "output_type": "stream",
     "text": [
      "Boot complete. Exiting...\n"
     ]
    }
   ],
   "source": [
    "import time\n",
    "from IPython.display import clear_output\n",
    "\n",
    "def print_boot_screen(memory_value, final=False):\n",
    "    clear_output(wait=True)\n",
    "    print(\"● Atmosphere\")\n",
    "    print(\"Copyright(C) 2019, Team ReSwitched\\n\")\n",
    "    print(\"               Nintendo Switch (ver 7.0.1)\\n\")\n",
    "    print(\"Main Processor  : Nvidia Tegra X1 SoC\")\n",
    "    mem_text = f\"{memory_value:,}K OK\" if final else f\"{memory_value:,}K ..\"\n",
    "    print(f\"Memory Testing  : {mem_text}\")\n",
    "    print(\"Primary Master  : 32G Internal Storage\")\n",
    "    print(\"Primary Slave   : 128G SD Card\")\n",
    "    print(\"\\n      energy*\")\n",
    "    print(\"      EPA POLLUTION PREVENTER\\n\")\n",
    "    print(\"Hold VOL DOWN on boot to enter Hekate.\\n\")\n",
    "\n",
    "# Animated memory test\n",
    "mem_target = 41940000\n",
    "mem_step = mem_target // 50\n",
    "mem_value = 0\n",
    "interval = 2 / 50\n",
    "\n",
    "for _ in range(50):\n",
    "    print_boot_screen(mem_value)\n",
    "    mem_value += mem_step\n",
    "    time.sleep(interval)\n",
    "print_boot_screen(mem_target, final=True)\n",
    "\n",
    "# Countdown and exit (simulated)\n",
    "for i in range(5, 0, -1):\n",
    "    print(f\"\\nExiting in {i}...\", end=\"\\r\")\n",
    "    time.sleep(1)\n",
    "clear_output()\n",
    "print(\"Boot complete. Exiting...\")\n",
    "\n"
   ]
  }
 ],
 "metadata": {
  "kernelspec": {
   "display_name": ".venv",
   "language": "python",
   "name": "python3"
  },
  "language_info": {
   "codemirror_mode": {
    "name": "ipython",
    "version": 3
   },
   "file_extension": ".py",
   "mimetype": "text/x-python",
   "name": "python",
   "nbconvert_exporter": "python",
   "pygments_lexer": "ipython3",
   "version": "3.12.3"
  }
 },
 "nbformat": 4,
 "nbformat_minor": 5
}
